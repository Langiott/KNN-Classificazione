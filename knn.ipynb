{
 "cells": [
  {
   "cell_type": "code",
   "execution_count": 1,
   "id": "dcea75ce-80b5-4239-b7d4-25d54ac52f30",
   "metadata": {},
   "outputs": [],
   "source": [
    "import pandas as pd"
   ]
  },
  {
   "cell_type": "code",
   "execution_count": 2,
   "id": "919f8d1d-0e7e-44fb-bfa2-868de7500bf8",
   "metadata": {},
   "outputs": [
    {
     "name": "stdout",
     "output_type": "stream",
     "text": [
      "1.4.4\n"
     ]
    }
   ],
   "source": [
    "print(pd.__version__) #verifico libreria pandas "
   ]
  },
  {
   "cell_type": "code",
   "execution_count": 3,
   "id": "296bd23b-94c4-4033-b1e5-d0f981264ca2",
   "metadata": {},
   "outputs": [
    {
     "data": {
      "text/plain": [
       "'C:\\\\Users\\\\PC\\\\A_Progetto1\\\\ClassificazioneKNN'"
      ]
     },
     "execution_count": 3,
     "metadata": {},
     "output_type": "execute_result"
    }
   ],
   "source": [
    "pwd #Definisco area di lavoro"
   ]
  },
  {
   "cell_type": "code",
   "execution_count": 4,
   "id": "e9275af3-b468-40a3-82fa-463dd5734668",
   "metadata": {},
   "outputs": [],
   "source": [
    "#Dati rielaborati in matlab derivanti dalle times series\n",
    "d_train={\"ceppo\"   : ['abete','leccio'],\n",
    "        \"devianza\": [700.8056 , 360.7349],\n",
    "        \"media\"   : [ 1.3732  ,  1.1265 ],\n",
    "        \"target\"  : [0,1]}\n",
    "d1 = d_train\n",
    "df = pd.DataFrame(data=d1,)"
   ]
  },
  {
   "cell_type": "code",
   "execution_count": 5,
   "id": "83cf4096-8646-4607-8af9-4e8c02f3c708",
   "metadata": {
    "collapsed": true,
    "jupyter": {
     "outputs_hidden": true
    },
    "tags": []
   },
   "outputs": [
    {
     "data": {
      "text/html": [
       "<div>\n",
       "<style scoped>\n",
       "    .dataframe tbody tr th:only-of-type {\n",
       "        vertical-align: middle;\n",
       "    }\n",
       "\n",
       "    .dataframe tbody tr th {\n",
       "        vertical-align: top;\n",
       "    }\n",
       "\n",
       "    .dataframe thead th {\n",
       "        text-align: right;\n",
       "    }\n",
       "</style>\n",
       "<table border=\"1\" class=\"dataframe\">\n",
       "  <thead>\n",
       "    <tr style=\"text-align: right;\">\n",
       "      <th></th>\n",
       "      <th>ceppo</th>\n",
       "      <th>devianza</th>\n",
       "      <th>media</th>\n",
       "      <th>target</th>\n",
       "    </tr>\n",
       "  </thead>\n",
       "  <tbody>\n",
       "    <tr>\n",
       "      <th>0</th>\n",
       "      <td>abete</td>\n",
       "      <td>700.8056</td>\n",
       "      <td>1.3732</td>\n",
       "      <td>0</td>\n",
       "    </tr>\n",
       "    <tr>\n",
       "      <th>1</th>\n",
       "      <td>leccio</td>\n",
       "      <td>360.7349</td>\n",
       "      <td>1.1265</td>\n",
       "      <td>1</td>\n",
       "    </tr>\n",
       "  </tbody>\n",
       "</table>\n",
       "</div>"
      ],
      "text/plain": [
       "    ceppo  devianza   media  target\n",
       "0   abete  700.8056  1.3732       0\n",
       "1  leccio  360.7349  1.1265       1"
      ]
     },
     "execution_count": 5,
     "metadata": {},
     "output_type": "execute_result"
    }
   ],
   "source": [
    "df #dataframe"
   ]
  },
  {
   "cell_type": "code",
   "execution_count": 6,
   "id": "6942465b-5d85-4337-988b-d6deee6e148e",
   "metadata": {
    "tags": []
   },
   "outputs": [
    {
     "data": {
      "text/html": [
       "<div>\n",
       "<style scoped>\n",
       "    .dataframe tbody tr th:only-of-type {\n",
       "        vertical-align: middle;\n",
       "    }\n",
       "\n",
       "    .dataframe tbody tr th {\n",
       "        vertical-align: top;\n",
       "    }\n",
       "\n",
       "    .dataframe thead th {\n",
       "        text-align: right;\n",
       "    }\n",
       "</style>\n",
       "<table border=\"1\" class=\"dataframe\">\n",
       "  <thead>\n",
       "    <tr style=\"text-align: right;\">\n",
       "      <th></th>\n",
       "      <th>devianza</th>\n",
       "      <th>media</th>\n",
       "    </tr>\n",
       "  </thead>\n",
       "  <tbody>\n",
       "    <tr>\n",
       "      <th>0</th>\n",
       "      <td>700.8056</td>\n",
       "      <td>1.3732</td>\n",
       "    </tr>\n",
       "    <tr>\n",
       "      <th>1</th>\n",
       "      <td>360.7349</td>\n",
       "      <td>1.1265</td>\n",
       "    </tr>\n",
       "  </tbody>\n",
       "</table>\n",
       "</div>"
      ],
      "text/plain": [
       "   devianza   media\n",
       "0  700.8056  1.3732\n",
       "1  360.7349  1.1265"
      ]
     },
     "execution_count": 6,
     "metadata": {},
     "output_type": "execute_result"
    }
   ],
   "source": [
    "X = df[df.columns[1:3]] #features\n",
    "y = df[\"target\"]         #target\n",
    "X.head()"
   ]
  },
  {
   "cell_type": "code",
   "execution_count": 7,
   "id": "323d11e6-406b-472b-9b87-86119ff598c4",
   "metadata": {},
   "outputs": [],
   "source": [
    "#libreira sklearn volta a implementare algoritimo KNN,RF etc...\n",
    "import sklearn\n",
    "from sklearn.neighbors import KNeighborsClassifier"
   ]
  },
  {
   "cell_type": "code",
   "execution_count": 8,
   "id": "5b0cb4b4-1341-4b5c-a717-7ef0d5043127",
   "metadata": {},
   "outputs": [],
   "source": [
    "#knn= KNeighborsClassifier(n=4)"
   ]
  },
  {
   "cell_type": "code",
   "execution_count": 9,
   "id": "0cf2008d-69e8-4082-90ae-62ff57924a57",
   "metadata": {},
   "outputs": [],
   "source": [
    "modello = KNeighborsClassifier(1)"
   ]
  },
  {
   "cell_type": "code",
   "execution_count": 10,
   "id": "e87a87a5-3e6d-43e8-94e7-ea67c3198638",
   "metadata": {
    "tags": []
   },
   "outputs": [
    {
     "data": {
      "text/plain": [
       "KNeighborsClassifier(n_neighbors=1)"
      ]
     },
     "execution_count": 10,
     "metadata": {},
     "output_type": "execute_result"
    }
   ],
   "source": [
    "modello.fit(X,y)"
   ]
  },
  {
   "cell_type": "code",
   "execution_count": 12,
   "id": "3228ce7f-95e4-4084-9de1-09ddd4bf8d36",
   "metadata": {},
   "outputs": [
    {
     "name": "stderr",
     "output_type": "stream",
     "text": [
      "C:\\ProgramData\\Anaconda3\\lib\\site-packages\\sklearn\\base.py:450: UserWarning: X does not have valid feature names, but KNeighborsClassifier was fitted with feature names\n",
      "  warnings.warn(\n",
      "C:\\ProgramData\\Anaconda3\\lib\\site-packages\\sklearn\\neighbors\\_classification.py:228: FutureWarning: Unlike other reduction functions (e.g. `skew`, `kurtosis`), the default behavior of `mode` typically preserves the axis it acts along. In SciPy 1.11.0, this behavior will change: the default value of `keepdims` will become False, the `axis` over which the statistic is taken will be eliminated, and the value None will no longer be accepted. Set `keepdims` to True or False to avoid this warning.\n",
      "  mode, _ = stats.mode(_y[neigh_ind, k], axis=1)\n"
     ]
    },
    {
     "data": {
      "text/plain": [
       "array([0], dtype=int64)"
      ]
     },
     "execution_count": 12,
     "metadata": {},
     "output_type": "execute_result"
    }
   ],
   "source": [
    "modello.predict([[666.3611 , 1.141]])"
   ]
  },
  {
   "cell_type": "code",
   "execution_count": 14,
   "id": "0f7136c7-ed77-476d-b840-74351da8c945",
   "metadata": {
    "tags": []
   },
   "outputs": [
    {
     "name": "stderr",
     "output_type": "stream",
     "text": [
      "C:\\ProgramData\\Anaconda3\\lib\\site-packages\\sklearn\\base.py:450: UserWarning: X does not have valid feature names, but KNeighborsClassifier was fitted with feature names\n",
      "  warnings.warn(\n",
      "C:\\ProgramData\\Anaconda3\\lib\\site-packages\\sklearn\\neighbors\\_classification.py:228: FutureWarning: Unlike other reduction functions (e.g. `skew`, `kurtosis`), the default behavior of `mode` typically preserves the axis it acts along. In SciPy 1.11.0, this behavior will change: the default value of `keepdims` will become False, the `axis` over which the statistic is taken will be eliminated, and the value None will no longer be accepted. Set `keepdims` to True or False to avoid this warning.\n",
      "  mode, _ = stats.mode(_y[neigh_ind, k], axis=1)\n"
     ]
    },
    {
     "data": {
      "text/plain": [
       "array([1], dtype=int64)"
      ]
     },
     "execution_count": 14,
     "metadata": {},
     "output_type": "execute_result"
    }
   ],
   "source": [
    "\n",
    "modello.predict([[340.7349 , 0.866]])"
   ]
  },
  {
   "cell_type": "code",
   "execution_count": null,
   "id": "57bf1800-bc71-48b1-aae5-83d4daffa4f7",
   "metadata": {},
   "outputs": [],
   "source": []
  }
 ],
 "metadata": {
  "kernelspec": {
   "display_name": "Python 3 (ipykernel)",
   "language": "python",
   "name": "python3"
  },
  "language_info": {
   "codemirror_mode": {
    "name": "ipython",
    "version": 3
   },
   "file_extension": ".py",
   "mimetype": "text/x-python",
   "name": "python",
   "nbconvert_exporter": "python",
   "pygments_lexer": "ipython3",
   "version": "3.9.13"
  }
 },
 "nbformat": 4,
 "nbformat_minor": 5
}
